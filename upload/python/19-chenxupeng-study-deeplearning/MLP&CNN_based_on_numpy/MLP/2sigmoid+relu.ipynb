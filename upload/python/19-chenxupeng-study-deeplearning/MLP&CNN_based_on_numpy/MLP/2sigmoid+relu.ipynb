{
 "cells": [
  {
   "cell_type": "code",
   "execution_count": 1,
   "metadata": {},
   "outputs": [
    {
     "name": "stdout",
     "output_type": "stream",
     "text": [
      "Populating the interactive namespace from numpy and matplotlib\n",
      "time_start: 14:08:08.355\n",
      "time_end: 14:28:42.760\n",
      "test accuracy: 0.98260\n",
      "test loss: 0.01914\n"
     ]
    }
   ],
   "source": [
    "%pylab inline\n",
    "train = np.loadtxt('train_log',dtype = 'S',delimiter = '\\n')\n",
    "test = np.loadtxt('test_log',dtype = 'S',delimiter = '\\n')\n",
    "time_start = train[0].split(' ')[0]\n",
    "time_end = train[5999].split(' ')[0]\n",
    "print 'time_start: %s'%time_start\n",
    "print 'time_end: %s'%time_end\n",
    "test_accuracy = test[99].split(',')[2].split(' ')[3]\n",
    "test_loss = test[99].split(',')[1].split(' ')[4]\n",
    "print 'test accuracy: %s' %test_accuracy\n",
    "print 'test loss: %s' %test_loss\n",
    "train_batch_loss = np.array([])\n",
    "train_batch_accuracy = np.array([])\n",
    "test_loss = np.array([])\n",
    "test_accuracy = np.array([])\n",
    "for i in range(100):\n",
    "    batch_loss = train[60*i].split(',')[1].split(' ')[3]\n",
    "    train_batch_loss = np.concatenate((train_batch_loss,np.array([batch_loss]).astype('float')))\n",
    "    batch_accuracy = train[60*i].split(',')[2].split(' ')[3]\n",
    "    train_batch_accuracy = np.concatenate((train_batch_accuracy,\n",
    "                                           np.array([batch_accuracy]).astype('float')))\n",
    "    test_loss_ = test[i].split(',')[1].split(' ')[4]\n",
    "    test_loss = np.concatenate((test_loss,np.array([test_loss_]).astype('float')))\n",
    "    test_accuracy_ = test[i].split(',')[2].split(' ')[3]\n",
    "    test_accuracy = np.concatenate((test_accuracy,np.array([test_accuracy_]).astype('float')))"
   ]
  },
  {
   "cell_type": "code",
   "execution_count": 2,
   "metadata": {},
   "outputs": [
    {
     "name": "stdout",
     "output_type": "stream",
     "text": [
      "train_batch_loss: 0.0145\n",
      "test_loss: 0.01914\n"
     ]
    },
    {
     "data": {
      "text/plain": [
       "[<matplotlib.lines.Line2D at 0x113219590>]"
      ]
     },
     "execution_count": 2,
     "metadata": {},
     "output_type": "execute_result"
    },
    {
     "data": {
      "image/png": "[encoded data removed]",
      "text/plain": [
       "<matplotlib.figure.Figure at 0x10c424790>"
      ]
     },
     "metadata": {},
     "output_type": "display_data"
    }
   ],
   "source": [
    "print 'train_batch_loss: %s'%train_batch_loss[-1]\n",
    "print 'test_loss: %s'%test_loss[-1]\n",
    "plot(train_batch_loss)\n",
    "plot(test_loss)"
   ]
  },
  {
   "cell_type": "code",
   "execution_count": 3,
   "metadata": {},
   "outputs": [
    {
     "name": "stdout",
     "output_type": "stream",
     "text": [
      "train_batch_accuracy: 0.988\n",
      "test_accuracy: 0.9826\n"
     ]
    },
    {
     "data": {
      "text/plain": [
       "[<matplotlib.lines.Line2D at 0x10dabef50>]"
      ]
     },
     "execution_count": 3,
     "metadata": {},
     "output_type": "execute_result"
    },
    {
     "data": {
      "image/png": "[encoded data removed]",
      "text/plain": [
       "<matplotlib.figure.Figure at 0x10dabef10>"
      ]
     },
     "metadata": {},
     "output_type": "display_data"
    }
   ],
   "source": [
    "print 'train_batch_accuracy: %s'%train_batch_accuracy[-1]\n",
    "print 'test_accuracy: %s'%test_accuracy[-1]\n",
    "plot(train_batch_accuracy)\n",
    "plot(test_accuracy)"
   ]
  },
  {
   "cell_type": "code",
   "execution_count": null,
   "metadata": {
    "collapsed": true
   },
   "outputs": [],
   "source": []
  },
  {
   "cell_type": "code",
   "execution_count": null,
   "metadata": {
    "collapsed": true
   },
   "outputs": [],
   "source": []
  },
  {
   "cell_type": "code",
   "execution_count": null,
   "metadata": {
    "collapsed": true
   },
   "outputs": [],
   "source": []
  },
  {
   "cell_type": "code",
   "execution_count": null,
   "metadata": {
    "collapsed": true
   },
   "outputs": [],
   "source": []
  },
  {
   "cell_type": "code",
   "execution_count": null,
   "metadata": {
    "collapsed": true
   },
   "outputs": [],
   "source": []
  },
  {
   "cell_type": "code",
   "execution_count": null,
   "metadata": {},
   "outputs": [],
   "source": []
  },
  {
   "cell_type": "code",
   "execution_count": null,
   "metadata": {},
   "outputs": [],
   "source": []
  },
  {
   "cell_type": "code",
   "execution_count": null,
   "metadata": {
    "collapsed": true
   },
   "outputs": [],
   "source": []
  },
  {
   "cell_type": "code",
   "execution_count": null,
   "metadata": {
    "collapsed": true
   },
   "outputs": [],
   "source": []
  },
  {
   "cell_type": "code",
   "execution_count": null,
   "metadata": {
    "collapsed": true
   },
   "outputs": [],
   "source": []
  },
  {
   "cell_type": "code",
   "execution_count": null,
   "metadata": {
    "collapsed": true
   },
   "outputs": [],
   "source": []
  },
  {
   "cell_type": "code",
   "execution_count": null,
   "metadata": {
    "collapsed": true
   },
   "outputs": [],
   "source": []
  }
 ],
 "metadata": {
  "kernelspec": {
   "display_name": "Python 2",
   "language": "python",
   "name": "python2"
  },
  "language_info": {
   "codemirror_mode": {
    "name": "ipython",
    "version": 2
   },
   "file_extension": ".py",
   "mimetype": "text/x-python",
   "name": "python",
   "nbconvert_exporter": "python",
   "pygments_lexer": "ipython2",
   "version": "2.7.13"
  }
 },
 "nbformat": 4,
 "nbformat_minor": 2
}
